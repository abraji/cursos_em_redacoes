{
 "cells": [
  {
   "cell_type": "code",
   "execution_count": null,
   "metadata": {},
   "outputs": [],
   "source": [
    "# -*- coding: utf-8\n",
    "# Abraji (https://www.abraji.org.br)\n",
    "# Reinaldo Chaves (reinaldo@abraji.org.br)\n",
    "# Programa para criar uma base de empresas que têm como sócios políticos eleitos ou suplentes em 2018\n",
    "#"
   ]
  },
  {
   "cell_type": "code",
   "execution_count": null,
   "metadata": {},
   "outputs": [],
   "source": []
  },
  {
   "cell_type": "code",
   "execution_count": 35,
   "metadata": {},
   "outputs": [],
   "source": [
    "import pandas as pd\n",
    "import numpy as np\n",
    "from datetime import datetime\n",
    "import unidecode"
   ]
  },
  {
   "cell_type": "code",
   "execution_count": null,
   "metadata": {},
   "outputs": [],
   "source": []
  },
  {
   "cell_type": "code",
   "execution_count": 36,
   "metadata": {},
   "outputs": [],
   "source": [
    "def f(str):\n",
    "    return (unidecode.unidecode(str))"
   ]
  },
  {
   "cell_type": "code",
   "execution_count": null,
   "metadata": {},
   "outputs": [],
   "source": []
  },
  {
   "cell_type": "markdown",
   "metadata": {},
   "source": [
    "Dados do TSE\n",
    "\n",
    "http://www.tse.jus.br/eleicoes/estatisticas/repositorio-de-dados-eleitorais-1/repositorio-de-dados-eleitorais"
   ]
  },
  {
   "cell_type": "code",
   "execution_count": 37,
   "metadata": {},
   "outputs": [],
   "source": [
    "candidatos_2018 = pd.read_csv(\"candidatos_2018/consulta_cand_2018_BRASIL.csv\",\\\n",
    "                              sep=';', \\\n",
    "                              encoding='latin_1', \\\n",
    "                              converters={'NR_CPF_CANDIDATO': lambda x: str(x),\n",
    "                                          'SQ_CANDIDATO': lambda x: str(x)},\\\n",
    "                              usecols=['NR_CPF_CANDIDATO',\n",
    "                                       'NM_CANDIDATO',\n",
    "                                       'ANO_ELEICAO',\n",
    "                                       'SQ_CANDIDATO',\n",
    "                                       'DS_CARGO',\n",
    "                                       'SG_UF', \n",
    "                                       'DS_SIT_TOT_TURNO'])"
   ]
  },
  {
   "cell_type": "code",
   "execution_count": 38,
   "metadata": {},
   "outputs": [
    {
     "name": "stdout",
     "output_type": "stream",
     "text": [
      "<class 'pandas.core.frame.DataFrame'>\n",
      "RangeIndex: 29145 entries, 0 to 29144\n",
      "Data columns (total 7 columns):\n",
      "ANO_ELEICAO         29145 non-null int64\n",
      "SG_UF               29145 non-null object\n",
      "DS_CARGO            29145 non-null object\n",
      "SQ_CANDIDATO        29145 non-null object\n",
      "NM_CANDIDATO        29145 non-null object\n",
      "NR_CPF_CANDIDATO    29145 non-null object\n",
      "DS_SIT_TOT_TURNO    29145 non-null object\n",
      "dtypes: int64(1), object(6)\n",
      "memory usage: 1.6+ MB\n"
     ]
    }
   ],
   "source": [
    "candidatos_2018.info()"
   ]
  },
  {
   "cell_type": "code",
   "execution_count": 39,
   "metadata": {},
   "outputs": [
    {
     "data": {
      "text/html": [
       "<div>\n",
       "<style scoped>\n",
       "    .dataframe tbody tr th:only-of-type {\n",
       "        vertical-align: middle;\n",
       "    }\n",
       "\n",
       "    .dataframe tbody tr th {\n",
       "        vertical-align: top;\n",
       "    }\n",
       "\n",
       "    .dataframe thead th {\n",
       "        text-align: right;\n",
       "    }\n",
       "</style>\n",
       "<table border=\"1\" class=\"dataframe\">\n",
       "  <thead>\n",
       "    <tr style=\"text-align: right;\">\n",
       "      <th></th>\n",
       "      <th>index</th>\n",
       "      <th>ANO_ELEICAO</th>\n",
       "      <th>SG_UF</th>\n",
       "      <th>DS_CARGO</th>\n",
       "      <th>SQ_CANDIDATO</th>\n",
       "      <th>NM_CANDIDATO</th>\n",
       "      <th>NR_CPF_CANDIDATO</th>\n",
       "      <th>DS_SIT_TOT_TURNO</th>\n",
       "    </tr>\n",
       "  </thead>\n",
       "  <tbody>\n",
       "    <tr>\n",
       "      <th>0</th>\n",
       "      <td>0</td>\n",
       "      <td>2018</td>\n",
       "      <td>SE</td>\n",
       "      <td>DEPUTADO ESTADUAL</td>\n",
       "      <td>260000629008</td>\n",
       "      <td>INGRID BITENCOURT</td>\n",
       "      <td>01478793538</td>\n",
       "      <td>#NULO#</td>\n",
       "    </tr>\n",
       "    <tr>\n",
       "      <th>1</th>\n",
       "      <td>1</td>\n",
       "      <td>2018</td>\n",
       "      <td>AM</td>\n",
       "      <td>DEPUTADO ESTADUAL</td>\n",
       "      <td>40000611557</td>\n",
       "      <td>AURELIANO GOMES JUNIOR</td>\n",
       "      <td>62983628272</td>\n",
       "      <td>SUPLENTE</td>\n",
       "    </tr>\n",
       "    <tr>\n",
       "      <th>2</th>\n",
       "      <td>2</td>\n",
       "      <td>2018</td>\n",
       "      <td>SP</td>\n",
       "      <td>DEPUTADO FEDERAL</td>\n",
       "      <td>250000623920</td>\n",
       "      <td>PAOLLA CATHERINE DOS SANTOS MIGUEL AGARD</td>\n",
       "      <td>22857846860</td>\n",
       "      <td>SUPLENTE</td>\n",
       "    </tr>\n",
       "    <tr>\n",
       "      <th>3</th>\n",
       "      <td>3</td>\n",
       "      <td>2018</td>\n",
       "      <td>AL</td>\n",
       "      <td>DEPUTADO ESTADUAL</td>\n",
       "      <td>20000628963</td>\n",
       "      <td>VERONICA DA SILVA</td>\n",
       "      <td>06779642428</td>\n",
       "      <td>SUPLENTE</td>\n",
       "    </tr>\n",
       "    <tr>\n",
       "      <th>4</th>\n",
       "      <td>4</td>\n",
       "      <td>2018</td>\n",
       "      <td>PA</td>\n",
       "      <td>DEPUTADO ESTADUAL</td>\n",
       "      <td>140000612785</td>\n",
       "      <td>RENATO ALVES SAMPAIO</td>\n",
       "      <td>57782709253</td>\n",
       "      <td>SUPLENTE</td>\n",
       "    </tr>\n",
       "  </tbody>\n",
       "</table>\n",
       "</div>"
      ],
      "text/plain": [
       "   index  ANO_ELEICAO SG_UF           DS_CARGO  SQ_CANDIDATO  \\\n",
       "0      0         2018    SE  DEPUTADO ESTADUAL  260000629008   \n",
       "1      1         2018    AM  DEPUTADO ESTADUAL   40000611557   \n",
       "2      2         2018    SP   DEPUTADO FEDERAL  250000623920   \n",
       "3      3         2018    AL  DEPUTADO ESTADUAL   20000628963   \n",
       "4      4         2018    PA  DEPUTADO ESTADUAL  140000612785   \n",
       "\n",
       "                               NM_CANDIDATO NR_CPF_CANDIDATO DS_SIT_TOT_TURNO  \n",
       "0                         INGRID BITENCOURT      01478793538           #NULO#  \n",
       "1                    AURELIANO GOMES JUNIOR      62983628272         SUPLENTE  \n",
       "2  PAOLLA CATHERINE DOS SANTOS MIGUEL AGARD      22857846860         SUPLENTE  \n",
       "3                         VERONICA DA SILVA      06779642428         SUPLENTE  \n",
       "4                      RENATO ALVES SAMPAIO      57782709253         SUPLENTE  "
      ]
     },
     "execution_count": 39,
     "metadata": {},
     "output_type": "execute_result"
    }
   ],
   "source": [
    "candidatos_2018.reset_index().head()"
   ]
  },
  {
   "cell_type": "code",
   "execution_count": 40,
   "metadata": {},
   "outputs": [
    {
     "data": {
      "text/plain": [
       "SUPLENTE            18666\n",
       "NÃO ELEITO           6927\n",
       "#NULO#               1702\n",
       "ELEITO POR QP        1275\n",
       "ELEITO POR MÉDIA      297\n",
       "ELEITO                218\n",
       "2º TURNO               60\n",
       "Name: DS_SIT_TOT_TURNO, dtype: int64"
      ]
     },
     "execution_count": 40,
     "metadata": {},
     "output_type": "execute_result"
    }
   ],
   "source": [
    "candidatos_2018['DS_SIT_TOT_TURNO'].value_counts()"
   ]
  },
  {
   "cell_type": "code",
   "execution_count": 41,
   "metadata": {},
   "outputs": [],
   "source": [
    "candidatos_2018 = candidatos_2018[(candidatos_2018['DS_SIT_TOT_TURNO'] == 'SUPLENTE') |\n",
    "                                  (candidatos_2018['DS_SIT_TOT_TURNO'] == 'ELEITO POR QP') |\n",
    "                                  (candidatos_2018['DS_SIT_TOT_TURNO'] == 'ELEITO POR MÉDIA') |\n",
    "                                  (candidatos_2018['DS_SIT_TOT_TURNO'] == 'ELEITO') \n",
    "                                 ]"
   ]
  },
  {
   "cell_type": "code",
   "execution_count": 42,
   "metadata": {},
   "outputs": [
    {
     "data": {
      "text/html": [
       "<div>\n",
       "<style scoped>\n",
       "    .dataframe tbody tr th:only-of-type {\n",
       "        vertical-align: middle;\n",
       "    }\n",
       "\n",
       "    .dataframe tbody tr th {\n",
       "        vertical-align: top;\n",
       "    }\n",
       "\n",
       "    .dataframe thead th {\n",
       "        text-align: right;\n",
       "    }\n",
       "</style>\n",
       "<table border=\"1\" class=\"dataframe\">\n",
       "  <thead>\n",
       "    <tr style=\"text-align: right;\">\n",
       "      <th></th>\n",
       "      <th>index</th>\n",
       "      <th>ANO_ELEICAO</th>\n",
       "      <th>SG_UF</th>\n",
       "      <th>DS_CARGO</th>\n",
       "      <th>SQ_CANDIDATO</th>\n",
       "      <th>NM_CANDIDATO</th>\n",
       "      <th>NR_CPF_CANDIDATO</th>\n",
       "      <th>DS_SIT_TOT_TURNO</th>\n",
       "    </tr>\n",
       "  </thead>\n",
       "  <tbody>\n",
       "    <tr>\n",
       "      <th>0</th>\n",
       "      <td>1</td>\n",
       "      <td>2018</td>\n",
       "      <td>AM</td>\n",
       "      <td>DEPUTADO ESTADUAL</td>\n",
       "      <td>40000611557</td>\n",
       "      <td>AURELIANO GOMES JUNIOR</td>\n",
       "      <td>62983628272</td>\n",
       "      <td>SUPLENTE</td>\n",
       "    </tr>\n",
       "    <tr>\n",
       "      <th>1</th>\n",
       "      <td>2</td>\n",
       "      <td>2018</td>\n",
       "      <td>SP</td>\n",
       "      <td>DEPUTADO FEDERAL</td>\n",
       "      <td>250000623920</td>\n",
       "      <td>PAOLLA CATHERINE DOS SANTOS MIGUEL AGARD</td>\n",
       "      <td>22857846860</td>\n",
       "      <td>SUPLENTE</td>\n",
       "    </tr>\n",
       "    <tr>\n",
       "      <th>2</th>\n",
       "      <td>3</td>\n",
       "      <td>2018</td>\n",
       "      <td>AL</td>\n",
       "      <td>DEPUTADO ESTADUAL</td>\n",
       "      <td>20000628963</td>\n",
       "      <td>VERONICA DA SILVA</td>\n",
       "      <td>06779642428</td>\n",
       "      <td>SUPLENTE</td>\n",
       "    </tr>\n",
       "    <tr>\n",
       "      <th>3</th>\n",
       "      <td>4</td>\n",
       "      <td>2018</td>\n",
       "      <td>PA</td>\n",
       "      <td>DEPUTADO ESTADUAL</td>\n",
       "      <td>140000612785</td>\n",
       "      <td>RENATO ALVES SAMPAIO</td>\n",
       "      <td>57782709253</td>\n",
       "      <td>SUPLENTE</td>\n",
       "    </tr>\n",
       "    <tr>\n",
       "      <th>4</th>\n",
       "      <td>6</td>\n",
       "      <td>2018</td>\n",
       "      <td>RJ</td>\n",
       "      <td>DEPUTADO ESTADUAL</td>\n",
       "      <td>190000622928</td>\n",
       "      <td>RENAN FERREIRINHA CARNEIRO</td>\n",
       "      <td>13698925788</td>\n",
       "      <td>ELEITO POR MÉDIA</td>\n",
       "    </tr>\n",
       "  </tbody>\n",
       "</table>\n",
       "</div>"
      ],
      "text/plain": [
       "   index  ANO_ELEICAO SG_UF           DS_CARGO  SQ_CANDIDATO  \\\n",
       "0      1         2018    AM  DEPUTADO ESTADUAL   40000611557   \n",
       "1      2         2018    SP   DEPUTADO FEDERAL  250000623920   \n",
       "2      3         2018    AL  DEPUTADO ESTADUAL   20000628963   \n",
       "3      4         2018    PA  DEPUTADO ESTADUAL  140000612785   \n",
       "4      6         2018    RJ  DEPUTADO ESTADUAL  190000622928   \n",
       "\n",
       "                               NM_CANDIDATO NR_CPF_CANDIDATO  DS_SIT_TOT_TURNO  \n",
       "0                    AURELIANO GOMES JUNIOR      62983628272          SUPLENTE  \n",
       "1  PAOLLA CATHERINE DOS SANTOS MIGUEL AGARD      22857846860          SUPLENTE  \n",
       "2                         VERONICA DA SILVA      06779642428          SUPLENTE  \n",
       "3                      RENATO ALVES SAMPAIO      57782709253          SUPLENTE  \n",
       "4                RENAN FERREIRINHA CARNEIRO      13698925788  ELEITO POR MÉDIA  "
      ]
     },
     "execution_count": 42,
     "metadata": {},
     "output_type": "execute_result"
    }
   ],
   "source": [
    "candidatos_2018.reset_index().head()"
   ]
  },
  {
   "cell_type": "code",
   "execution_count": 43,
   "metadata": {},
   "outputs": [],
   "source": [
    "# Cria nova coluna com o CPF mascarado dos doadores\n",
    "# 11 dígitos\n",
    "# 12345678901\n",
    "# 01234567890 -> python começa contar pelo zero\n",
    "# ***345678**\n",
    "\n",
    "# List slicing\n",
    "# [start:end]\n",
    "# inclusive:exclusive"
   ]
  },
  {
   "cell_type": "code",
   "execution_count": 44,
   "metadata": {},
   "outputs": [],
   "source": [
    "candidatos_2018['cpf_mascarado']='***'+candidatos_2018['NR_CPF_CANDIDATO'].str[3:9]+'**'"
   ]
  },
  {
   "cell_type": "code",
   "execution_count": 45,
   "metadata": {},
   "outputs": [],
   "source": [
    "candidatos_2018[\"NM_CANDIDATO\"] = candidatos_2018[\"NM_CANDIDATO\"].apply(f)"
   ]
  },
  {
   "cell_type": "code",
   "execution_count": 46,
   "metadata": {},
   "outputs": [
    {
     "data": {
      "text/html": [
       "<div>\n",
       "<style scoped>\n",
       "    .dataframe tbody tr th:only-of-type {\n",
       "        vertical-align: middle;\n",
       "    }\n",
       "\n",
       "    .dataframe tbody tr th {\n",
       "        vertical-align: top;\n",
       "    }\n",
       "\n",
       "    .dataframe thead th {\n",
       "        text-align: right;\n",
       "    }\n",
       "</style>\n",
       "<table border=\"1\" class=\"dataframe\">\n",
       "  <thead>\n",
       "    <tr style=\"text-align: right;\">\n",
       "      <th></th>\n",
       "      <th>index</th>\n",
       "      <th>ANO_ELEICAO</th>\n",
       "      <th>SG_UF</th>\n",
       "      <th>DS_CARGO</th>\n",
       "      <th>SQ_CANDIDATO</th>\n",
       "      <th>NM_CANDIDATO</th>\n",
       "      <th>NR_CPF_CANDIDATO</th>\n",
       "      <th>DS_SIT_TOT_TURNO</th>\n",
       "      <th>cpf_mascarado</th>\n",
       "    </tr>\n",
       "  </thead>\n",
       "  <tbody>\n",
       "    <tr>\n",
       "      <th>0</th>\n",
       "      <td>1</td>\n",
       "      <td>2018</td>\n",
       "      <td>AM</td>\n",
       "      <td>DEPUTADO ESTADUAL</td>\n",
       "      <td>40000611557</td>\n",
       "      <td>AURELIANO GOMES JUNIOR</td>\n",
       "      <td>62983628272</td>\n",
       "      <td>SUPLENTE</td>\n",
       "      <td>***836282**</td>\n",
       "    </tr>\n",
       "    <tr>\n",
       "      <th>1</th>\n",
       "      <td>2</td>\n",
       "      <td>2018</td>\n",
       "      <td>SP</td>\n",
       "      <td>DEPUTADO FEDERAL</td>\n",
       "      <td>250000623920</td>\n",
       "      <td>PAOLLA CATHERINE DOS SANTOS MIGUEL AGARD</td>\n",
       "      <td>22857846860</td>\n",
       "      <td>SUPLENTE</td>\n",
       "      <td>***578468**</td>\n",
       "    </tr>\n",
       "    <tr>\n",
       "      <th>2</th>\n",
       "      <td>3</td>\n",
       "      <td>2018</td>\n",
       "      <td>AL</td>\n",
       "      <td>DEPUTADO ESTADUAL</td>\n",
       "      <td>20000628963</td>\n",
       "      <td>VERONICA DA SILVA</td>\n",
       "      <td>06779642428</td>\n",
       "      <td>SUPLENTE</td>\n",
       "      <td>***796424**</td>\n",
       "    </tr>\n",
       "    <tr>\n",
       "      <th>3</th>\n",
       "      <td>4</td>\n",
       "      <td>2018</td>\n",
       "      <td>PA</td>\n",
       "      <td>DEPUTADO ESTADUAL</td>\n",
       "      <td>140000612785</td>\n",
       "      <td>RENATO ALVES SAMPAIO</td>\n",
       "      <td>57782709253</td>\n",
       "      <td>SUPLENTE</td>\n",
       "      <td>***827092**</td>\n",
       "    </tr>\n",
       "    <tr>\n",
       "      <th>4</th>\n",
       "      <td>6</td>\n",
       "      <td>2018</td>\n",
       "      <td>RJ</td>\n",
       "      <td>DEPUTADO ESTADUAL</td>\n",
       "      <td>190000622928</td>\n",
       "      <td>RENAN FERREIRINHA CARNEIRO</td>\n",
       "      <td>13698925788</td>\n",
       "      <td>ELEITO POR MÉDIA</td>\n",
       "      <td>***989257**</td>\n",
       "    </tr>\n",
       "  </tbody>\n",
       "</table>\n",
       "</div>"
      ],
      "text/plain": [
       "   index  ANO_ELEICAO SG_UF           DS_CARGO  SQ_CANDIDATO  \\\n",
       "0      1         2018    AM  DEPUTADO ESTADUAL   40000611557   \n",
       "1      2         2018    SP   DEPUTADO FEDERAL  250000623920   \n",
       "2      3         2018    AL  DEPUTADO ESTADUAL   20000628963   \n",
       "3      4         2018    PA  DEPUTADO ESTADUAL  140000612785   \n",
       "4      6         2018    RJ  DEPUTADO ESTADUAL  190000622928   \n",
       "\n",
       "                               NM_CANDIDATO NR_CPF_CANDIDATO  \\\n",
       "0                    AURELIANO GOMES JUNIOR      62983628272   \n",
       "1  PAOLLA CATHERINE DOS SANTOS MIGUEL AGARD      22857846860   \n",
       "2                         VERONICA DA SILVA      06779642428   \n",
       "3                      RENATO ALVES SAMPAIO      57782709253   \n",
       "4                RENAN FERREIRINHA CARNEIRO      13698925788   \n",
       "\n",
       "   DS_SIT_TOT_TURNO cpf_mascarado  \n",
       "0          SUPLENTE   ***836282**  \n",
       "1          SUPLENTE   ***578468**  \n",
       "2          SUPLENTE   ***796424**  \n",
       "3          SUPLENTE   ***827092**  \n",
       "4  ELEITO POR MÉDIA   ***989257**  "
      ]
     },
     "execution_count": 46,
     "metadata": {},
     "output_type": "execute_result"
    }
   ],
   "source": [
    "candidatos_2018.reset_index().head()"
   ]
  },
  {
   "cell_type": "code",
   "execution_count": null,
   "metadata": {},
   "outputs": [],
   "source": []
  },
  {
   "cell_type": "code",
   "execution_count": null,
   "metadata": {},
   "outputs": [],
   "source": []
  },
  {
   "cell_type": "markdown",
   "metadata": {},
   "source": [
    "Dados da Receita Federal - maio de 2019\n",
    "\n",
    "http://receita.economia.gov.br/orientacao/tributaria/cadastros/cadastro-nacional-de-pessoas-juridicas-cnpj/dados-publicos-cnpj\n",
    "\n",
    "Dados prontos para uso (limpo por https://twitter.com/turicas): https://drive.google.com/drive/folders/1uDRGu0rzUc1X-IwVlZpswtfvsUfpCOhy"
   ]
  },
  {
   "cell_type": "code",
   "execution_count": null,
   "metadata": {},
   "outputs": [],
   "source": []
  },
  {
   "cell_type": "markdown",
   "metadata": {},
   "source": [
    "Primeiro procura dados de polticos na base sócios"
   ]
  },
  {
   "cell_type": "code",
   "execution_count": 47,
   "metadata": {},
   "outputs": [],
   "source": [
    "TextFileReader = pd.read_csv('receita/socio.csv',\\\n",
    "                             chunksize=100000,\\\n",
    "                             sep=',',\\\n",
    "                             names=['cnpj',\n",
    "                                    'identificador_de_socio',\n",
    "                                    'nome_socio',\n",
    "                                    'cnpj_cpf_do_socio',\n",
    "                                    'codigo_qualificacao_socio',\n",
    "                                    'percentual_capital_social',\n",
    "                                    'data_entrada_sociedade',\n",
    "                                    'cpf_representante_legal',\n",
    "                                    'nome_representante_legal',\n",
    "                                    'codigo_qualificacao_representante_legal'],\\\n",
    "                             header=None,\\\n",
    "                             dtype={'cnpj': str,\n",
    "                                    'identificador_de_socio': str,\n",
    "                                    'nome_socio': str,\n",
    "                                    'cnpj_cpf_do_socio': str,\n",
    "                                    'codigo_qualificacao_socio': str,\n",
    "                                    'percentual_capital_social': str,\n",
    "                                    'data_entrada_sociedade': str,\n",
    "                                    'cpf_representante_legal': str,\n",
    "                                    'nome_representante_legal': str,\n",
    "                                    'codigo_qualificacao_representante_legal': str\n",
    "},\\\n",
    "                             usecols=['cnpj',\n",
    "                                      'nome_socio',\n",
    "                                      'cnpj_cpf_do_socio',\n",
    "                                      'percentual_capital_social',\n",
    "                                      'codigo_qualificacao_socio',\n",
    "                                      'cpf_representante_legal',\n",
    "                                      'nome_representante_legal'],\n",
    "                             decimal=',')"
   ]
  },
  {
   "cell_type": "code",
   "execution_count": 48,
   "metadata": {},
   "outputs": [
    {
     "name": "stdout",
     "output_type": "stream",
     "text": [
      "A extração começou às:  2019-08-08 16:46:09.794961\n",
      "A extração terminou às:  2019-08-08 16:46:44.932422\n"
     ]
    }
   ],
   "source": [
    "now = datetime.now()\n",
    "print(\"A extração começou às: \", now)\n",
    "\n",
    "conta = 0\n",
    "for df in TextFileReader:\n",
    "\n",
    "    # Caso deseja-se pegar o CNPJ raiz poderia criar uma nova coluna\n",
    "    #df['cnpj_raiz'] = df.cnpj.str[:8]\n",
    "    \n",
    "    # Faz merge dos dataframes pelo número do CNPJ\n",
    "    # Se por algum motivo no dataframe original existirem CNPJ duplicados faz um drop\n",
    "    polit_encontrados = pd.merge(candidatos_2018.drop_duplicates('NR_CPF_CANDIDATO'), \\\n",
    "                                 df, \\\n",
    "                                 left_on=['NM_CANDIDATO', 'cpf_mascarado'], \\\n",
    "                                 right_on=['nome_socio', 'cnpj_cpf_do_socio'])\n",
    "    \n",
    "    if polit_encontrados.empty is False:\n",
    "        if conta == 0:\n",
    "            df_procura1 = polit_encontrados\n",
    "        else:\n",
    "            df_procura1 = df_procura1.append(polit_encontrados)\n",
    "    \n",
    "        conta = conta + 1\n",
    "        \n",
    "now = datetime.now()\n",
    "print(\"A extração terminou às: \", now)"
   ]
  },
  {
   "cell_type": "code",
   "execution_count": null,
   "metadata": {},
   "outputs": [],
   "source": []
  },
  {
   "cell_type": "code",
   "execution_count": 49,
   "metadata": {},
   "outputs": [
    {
     "name": "stdout",
     "output_type": "stream",
     "text": [
      "<class 'pandas.core.frame.DataFrame'>\n",
      "Int64Index: 21186 entries, 0 to 66\n",
      "Data columns (total 15 columns):\n",
      "ANO_ELEICAO                  21186 non-null int64\n",
      "SG_UF                        21186 non-null object\n",
      "DS_CARGO                     21186 non-null object\n",
      "SQ_CANDIDATO                 21186 non-null object\n",
      "NM_CANDIDATO                 21186 non-null object\n",
      "NR_CPF_CANDIDATO             21186 non-null object\n",
      "DS_SIT_TOT_TURNO             21186 non-null object\n",
      "cpf_mascarado                21186 non-null object\n",
      "cnpj                         21186 non-null object\n",
      "nome_socio                   21186 non-null object\n",
      "cnpj_cpf_do_socio            21186 non-null object\n",
      "codigo_qualificacao_socio    21186 non-null object\n",
      "percentual_capital_social    21186 non-null object\n",
      "cpf_representante_legal      47 non-null object\n",
      "nome_representante_legal     47 non-null object\n",
      "dtypes: int64(1), object(14)\n",
      "memory usage: 2.6+ MB\n"
     ]
    }
   ],
   "source": [
    "df_procura1.info()"
   ]
  },
  {
   "cell_type": "code",
   "execution_count": null,
   "metadata": {},
   "outputs": [],
   "source": []
  },
  {
   "cell_type": "markdown",
   "metadata": {},
   "source": [
    "Depois procura esse resultados na base geral de empresas "
   ]
  },
  {
   "cell_type": "code",
   "execution_count": 50,
   "metadata": {},
   "outputs": [],
   "source": [
    "TextFileReader = pd.read_csv('receita/empresa.csv',\\\n",
    "                             chunksize=100000,\\\n",
    "                             sep=',',\\\n",
    "                             names=['cnpj',\n",
    "                                    'identificador_matrizfilial',\n",
    "                                    'razao_social',\n",
    "                                    'nome_fantasia', \n",
    "                                    'situacao_cadastral',\n",
    "                                    'data_situacao_cadastral',\n",
    "                                    'motivo_situacao_cadastral', \n",
    "                                    'nome_cidade_exterior',\n",
    "                                    'codigo_natureza_juridica',\n",
    "                                    'data_inicio_atividade',\n",
    "                                    'cnae_fiscal',\n",
    "                                    'descricao_tipo_logradouro',\n",
    "                                    'logradouro', \n",
    "                                    'numero', \n",
    "                                    'complemento', \n",
    "                                    'bairro', \n",
    "                                    'cep', \n",
    "                                    'uf', \n",
    "                                    'codigo_municipio', \n",
    "                                    'municipio', \n",
    "                                    'ddd_telefone_1',\n",
    "                                    'ddd_telefone_2', \n",
    "                                    'ddd_fax', \n",
    "                                    'qualificacao_do_responsavel', \n",
    "                                    'capital_social', \n",
    "                                    'porte', \n",
    "                                    'opcao_pelo_simples', \n",
    "                                    'data_opcao_pelo_simples', \n",
    "                                    'data_exclusao_do_simples', \n",
    "                                    'opcao_pelo_mei', \n",
    "                                    'situacao_especial', \n",
    "                                    'data_situacao_especial'],\\\n",
    "                             header=None,\\\n",
    "                             dtype={'cnpj': str,\n",
    "                                    'identificador_matrizfilial': str,\n",
    "                                    'razao_social': str,\n",
    "                                    'nome_fantasia': str, \n",
    "                                    'situacao_cadastral': str,\n",
    "                                    'data_situacao_cadastral': str,\n",
    "                                    'motivo_situacao_cadastral': str, \n",
    "                                    'nome_cidade_exterior': str,\n",
    "                                    'codigo_natureza_juridica': str,\n",
    "                                    'data_inicio_atividade': str,\n",
    "                                    'cnae_fiscal': str,\n",
    "                                    'descricao_tipo_logradouro': str,\n",
    "                                    'logradouro': str, \n",
    "                                    'numero': str, \n",
    "                                    'complemento': str, \n",
    "                                    'bairro': str, \n",
    "                                    'cep': str, \n",
    "                                    'uf': str, \n",
    "                                    'codigo_municipio': str, \n",
    "                                    'municipio': str, \n",
    "                                    'ddd_telefone_1': str,\n",
    "                                    'ddd_telefone_2': str, \n",
    "                                    'ddd_fax': str, \n",
    "                                    'qualificacao_do_responsavel': str, \n",
    "                                    'capital_social': str, \n",
    "                                    'porte': str, \n",
    "                                    'opcao_pelo_simples': str, \n",
    "                                    'data_opcao_pelo_simples': str, \n",
    "                                    'data_exclusao_do_simples': str, \n",
    "                                    'opcao_pelo_mei': str, \n",
    "                                    'situacao_especial': str, \n",
    "                                    'data_situacao_especial': str},\\\n",
    "                             usecols=['cnpj',\n",
    "                                      'identificador_matrizfilial',\n",
    "                                      'razao_social',\n",
    "                                      'nome_fantasia', \n",
    "                                      'situacao_cadastral',\n",
    "                                      'data_situacao_cadastral',\n",
    "                                      'motivo_situacao_cadastral', \n",
    "                                      'nome_cidade_exterior',\n",
    "                                      'codigo_natureza_juridica',\n",
    "                                      'data_inicio_atividade',\n",
    "                                      'cnae_fiscal',\n",
    "                                      'uf', \n",
    "                                      'municipio', \n",
    "                                      'qualificacao_do_responsavel', \n",
    "                                      'capital_social'\n",
    "                                    ],\\\n",
    "                            decimal=',')\n"
   ]
  },
  {
   "cell_type": "code",
   "execution_count": 51,
   "metadata": {},
   "outputs": [
    {
     "name": "stdout",
     "output_type": "stream",
     "text": [
      "A extração começou às:  2019-08-08 16:47:07.901554\n",
      "A extração terminou às:  2019-08-08 16:48:54.404501\n"
     ]
    }
   ],
   "source": [
    "now = datetime.now()\n",
    "print(\"A extração começou às: \", now)\n",
    "\n",
    "conta = 0\n",
    "for df in TextFileReader:\n",
    "\n",
    "    empresas_encontradas = pd.merge(df_procura1, \\\n",
    "                                 df, \\\n",
    "                                 left_on='cnpj', \\\n",
    "                                 right_on='cnpj')\n",
    "    \n",
    "    if empresas_encontradas.empty is False:\n",
    "        if conta == 0:\n",
    "            df_procura_final = empresas_encontradas\n",
    "        else:\n",
    "            df_procura_final = df_procura_final.append(empresas_encontradas)\n",
    "    \n",
    "        conta = conta + 1\n",
    "        \n",
    "now = datetime.now()\n",
    "print(\"A extração terminou às: \", now)"
   ]
  },
  {
   "cell_type": "code",
   "execution_count": 52,
   "metadata": {},
   "outputs": [
    {
     "name": "stdout",
     "output_type": "stream",
     "text": [
      "<class 'pandas.core.frame.DataFrame'>\n",
      "Int64Index: 21186 entries, 0 to 39\n",
      "Data columns (total 29 columns):\n",
      "ANO_ELEICAO                    21186 non-null int64\n",
      "SG_UF                          21186 non-null object\n",
      "DS_CARGO                       21186 non-null object\n",
      "SQ_CANDIDATO                   21186 non-null object\n",
      "NM_CANDIDATO                   21186 non-null object\n",
      "NR_CPF_CANDIDATO               21186 non-null object\n",
      "DS_SIT_TOT_TURNO               21186 non-null object\n",
      "cpf_mascarado                  21186 non-null object\n",
      "cnpj                           21186 non-null object\n",
      "nome_socio                     21186 non-null object\n",
      "cnpj_cpf_do_socio              21186 non-null object\n",
      "codigo_qualificacao_socio      21186 non-null object\n",
      "percentual_capital_social      21186 non-null object\n",
      "cpf_representante_legal        47 non-null object\n",
      "nome_representante_legal       47 non-null object\n",
      "identificador_matrizfilial     21186 non-null object\n",
      "razao_social                   21186 non-null object\n",
      "nome_fantasia                  12578 non-null object\n",
      "situacao_cadastral             21186 non-null object\n",
      "data_situacao_cadastral        21186 non-null object\n",
      "motivo_situacao_cadastral      21186 non-null object\n",
      "nome_cidade_exterior           0 non-null object\n",
      "codigo_natureza_juridica       21186 non-null object\n",
      "data_inicio_atividade          21186 non-null object\n",
      "cnae_fiscal                    21186 non-null object\n",
      "uf                             21186 non-null object\n",
      "municipio                      21186 non-null object\n",
      "qualificacao_do_responsavel    21186 non-null object\n",
      "capital_social                 21186 non-null object\n",
      "dtypes: int64(1), object(28)\n",
      "memory usage: 4.8+ MB\n"
     ]
    }
   ],
   "source": [
    "df_procura_final.info()"
   ]
  },
  {
   "cell_type": "code",
   "execution_count": null,
   "metadata": {},
   "outputs": [],
   "source": []
  },
  {
   "cell_type": "code",
   "execution_count": 53,
   "metadata": {},
   "outputs": [],
   "source": [
    "df_procura_final.to_csv('resultados/empresas_de_politicos_maio_2019.csv', index=False)"
   ]
  },
  {
   "cell_type": "code",
   "execution_count": null,
   "metadata": {},
   "outputs": [],
   "source": []
  }
 ],
 "metadata": {
  "kernelspec": {
   "display_name": "Python 3",
   "language": "python",
   "name": "python3"
  },
  "language_info": {
   "codemirror_mode": {
    "name": "ipython",
    "version": 3
   },
   "file_extension": ".py",
   "mimetype": "text/x-python",
   "name": "python",
   "nbconvert_exporter": "python",
   "pygments_lexer": "ipython3",
   "version": "3.6.8"
  }
 },
 "nbformat": 4,
 "nbformat_minor": 4
}
